{
 "cells": [
  {
   "cell_type": "markdown",
   "id": "8405fe90-1b27-4ffc-8579-257b2d8cd100",
   "metadata": {},
   "source": [
    "# HTML Notes\n",
    "*** "
   ]
  },
  {
   "cell_type": "markdown",
   "id": "6c11171e-c640-4c1d-bfd7-171fa6668e8f",
   "metadata": {},
   "source": [
    "## subheading\n",
    "*** "
   ]
  },
  {
   "cell_type": "markdown",
   "id": "786870c2-8cd5-4511-bc4b-e490db0da4e2",
   "metadata": {},
   "source": [
    "### smaller heading\n",
    "***"
   ]
  },
  {
   "cell_type": "markdown",
   "id": "5bd8f243-38e1-483d-86b0-eca4d4e28ffe",
   "metadata": {},
   "source": [
    "This is a very very simple dimple pharagraph"
   ]
  },
  {
   "cell_type": "markdown",
   "id": "7e868fb5-2da0-4c03-8264-7b6791f3df8f",
   "metadata": {},
   "source": [
    "in `HTML` the `<p>` tag"
   ]
  },
  {
   "cell_type": "markdown",
   "id": "ce7308bd-191b-477c-9090-0ede8ef644ee",
   "metadata": {},
   "source": [
    "```\n",
    "<body>\n",
    "<p>This is a pharagraph</p>\n",
    "</body>\n",
    "```"
   ]
  },
  {
   "cell_type": "markdown",
   "id": "457acbd9-3255-46ff-bdb6-8cf8cf4a8339",
   "metadata": {},
   "source": [
    "__Bold text__"
   ]
  },
  {
   "cell_type": "markdown",
   "id": "cf3e63ab-77e6-4839-9e27-a75801753b3e",
   "metadata": {},
   "source": [
    "1. Hi\n",
    "2. there\n",
    "3. hello\n",
    "4. back"
   ]
  },
  {
   "cell_type": "markdown",
   "id": "f028b73a-e43b-49ad-b59c-43d8c1318751",
   "metadata": {},
   "source": [
    "_italic_\n",
    "<br>\n",
    "*italic*"
   ]
  },
  {
   "cell_type": "markdown",
   "id": "e3f33e0a-1fa3-47d3-a434-73bdc8b3aa43",
   "metadata": {},
   "source": [
    "[Grimace is coming for you](https://encrypted-tbn0.gstatic.com/images?q=tbn:ANd9GcSEaoFCruYyQEXBYLLsrAMBnmIDE2aelX2NA1RWur3TNSoidNA:https://i.ytimg.com/vi/mA5ShB4EmCo/hq720.jpg%3Fsqp%3D-oaymwEhCK4FEIIDSFryq4qpAxMIARUAAAAAGAElAADIQj0AgKJD%26rs%3DAOn4CLBV7hkl3kWQp9_FO33XSBaIvXdR7Q&s)\n",
    "                            "
   ]
  },
  {
   "cell_type": "markdown",
   "id": "1b322f50-bd23-44db-9968-017e9759d591",
   "metadata": {},
   "source": [
    "<!DOCTYPE html>\n",
    "<html>\n",
    "    <head>\n",
    "         <title>Page Title</title>\n",
    "     </head>\n",
    "     <body>\n",
    "         <h1>This is a heading</h1>\n",
    "         <p>This is a pharagraph</p>\n",
    "     </body>\n",
    " </html>\n",
    " "
   ]
  },
  {
   "cell_type": "markdown",
   "id": "75b7480f-6470-491c-806e-4ed39768936d",
   "metadata": {},
   "source": [
    "<h1>Main Heading</h1>\n",
    "<h2>Subheading</h2>\n",
    "<h3>Sub-subheading</h3>"
   ]
  },
  {
   "cell_type": "markdown",
   "id": "cd5c5c49-31f7-4e8b-96c3-3130427eb81a",
   "metadata": {},
   "source": [
    "<h1>Paragraphs</h1>\n",
    "Paragraph demonstrtion\n",
    "<p>This is my very special note to grimace. I <3 grimace</p>"
   ]
  },
  {
   "cell_type": "markdown",
   "id": "1e804e74-061d-4204-8933-56bc10880cea",
   "metadata": {},
   "source": [
    "<h1>links</h1>\n",
    "<a href=\"https://mcdonalds.fandom.com/wiki/Grimace\">Grimace lore</a>"
   ]
  },
  {
   "cell_type": "markdown",
   "id": "b9c96354-4f15-4b7d-9236-41e32672a230",
   "metadata": {},
   "source": [
    "<h1>Images</h1>\n",
    "<img src=\"https://media-cldnry.s-nbcnews.com/image/upload/t_fit-760w,f_auto,q_auto:best/rockcms/2023-06/Teenage-Grimace-with-Mullet-and-Braces-0621a0.jpg\" alt=Grimace smile go BRRRRRRRRR\">"
   ]
  },
  {
   "cell_type": "markdown",
   "id": "37b47012-e5af-40a2-b4e2-9a6569116fd6",
   "metadata": {},
   "source": [
    "<h1>lists</h1>\n",
    "<B>Unordered</B>\n",
    "<ul>\n",
    "    <li>Grimace shake</li>\n",
    "    <li>McDonnys borgier</li>\n",
    "    <li>Five guys borgier</li>\n",
    "</ul>"
   ]
  },
  {
   "cell_type": "markdown",
   "id": "e546f89e-4621-41ae-8494-912a1f8cf09f",
   "metadata": {},
   "source": [
    "<B>Ordered</B>\n",
    "<ol>\n",
    "    <li>Grimace shake</li>\n",
    "    <li>McDonnys Borgier</li>\n",
    "    <li>Five Guys Borgier</li>\n",
    "</ol>"
   ]
  },
  {
   "cell_type": "markdown",
   "id": "15612eda-047c-4e9b-8640-761640f7c342",
   "metadata": {},
   "source": [
    "<h1>Attributes</h1>"
   ]
  },
  {
   "cell_type": "markdown",
   "id": "729ead73-01bf-4bd7-ba26-95eb89d0781c",
   "metadata": {},
   "source": [
    "<a href=\"https://en.wikipedia.org/wiki/Five_Guys\" target=\"_blank\">link</a>"
   ]
  },
  {
   "cell_type": "markdown",
   "id": "ab175c9c-7e4a-4a16-b155-d252b62a5d69",
   "metadata": {},
   "source": [
    "<h1>Divs & Spans</h1>"
   ]
  },
  {
   "cell_type": "markdown",
   "id": "9c95b7ba-c051-4d9e-a8af-31d996047354",
   "metadata": {},
   "source": [
    "<div>\n",
    "    <h1>Title</h1>\n",
    "    <p>This is inside the div.</p>\n",
    "</div>\n",
    "<span>This is inside a span.</span>"
   ]
  },
  {
   "cell_type": "markdown",
   "id": "7ea63d13-bdc4-4fc8-ac63-67ba4a5873c1",
   "metadata": {},
   "source": [
    "<h1>Forms</h1>"
   ]
  },
  {
   "cell_type": "markdown",
   "id": "a4d0f9fa-e47c-4a0b-8801-94c98fa3910e",
   "metadata": {},
   "source": [
    "<form action=\"/submit\" method=\"post\">\n",
    "    <label for=\"name\">Name:</label>\n",
    "    <input type=\"text\" id=\"name\" name=\"name\">\n",
    "    <input type=\"submit\" value=\"submit\">\n",
    "</form>"
   ]
  },
  {
   "cell_type": "markdown",
   "id": "4d914fe3-0f31-443d-a6b9-69d046c2d638",
   "metadata": {},
   "source": [
    "<h1>Semantic</h1>"
   ]
  },
  {
   "cell_type": "code",
   "execution_count": null,
   "id": "0d00aec2-765f-427f-96b8-856b9155b766",
   "metadata": {},
   "outputs": [],
   "source": [
    "<header> Defines a header section.\n",
    "<nav> Defines a navigation bar.\n",
    "<section> Defines a section in a document.\n",
    "<article> Defines independent content.\n",
    "<footer> defines a footer for a document or section."
   ]
  },
  {
   "cell_type": "markdown",
   "id": "13d4f533-af7e-45f2-a57f-0405baf87039",
   "metadata": {},
   "source": [
    "<b>Examples of Semantic HTML</b>"
   ]
  },
  {
   "cell_type": "markdown",
   "id": "90f55578-4ca7-4248-995f-ad0c1acc6251",
   "metadata": {},
   "source": [
    "<header>\n",
    "    <h1>Welcome to My Website</h1>\n",
    "</header>\n",
    "\n",
    "<nav>\n",
    "    <a herf=\"/home\">home</a>\n",
    "</nav>\n",
    "\n",
    "<section>\n",
    "    <article>\n",
    "        <h2>Blog Post Title</h2>\n",
    "        <p>Blog content goes here...</p>\n",
    "    </article>\n",
    "</section>\n",
    "\n",
    "<footer>\n",
    "    <p>Footer content goes here.</p>\n",
    "</footer>"
   ]
  },
  {
   "cell_type": "code",
   "execution_count": null,
   "id": "fb894ea3-1a39-4f87-9e45-ed54b5bd5c03",
   "metadata": {},
   "outputs": [],
   "source": []
  }
 ],
 "metadata": {
  "kernelspec": {
   "display_name": "Python 3 (ipykernel)",
   "language": "python",
   "name": "python3"
  },
  "language_info": {
   "codemirror_mode": {
    "name": "ipython",
    "version": 3
   },
   "file_extension": ".py",
   "mimetype": "text/x-python",
   "name": "python",
   "nbconvert_exporter": "python",
   "pygments_lexer": "ipython3",
   "version": "3.12.1"
  }
 },
 "nbformat": 4,
 "nbformat_minor": 5
}
