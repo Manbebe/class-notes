{
 "cells": [
  {
   "cell_type": "markdown",
   "id": "ae7dc8b4-c594-4c57-bda1-cea26e5ec5df",
   "metadata": {},
   "source": [
    "<h1>Python Programming:A General Overview</h1>"
   ]
  },
  {
   "cell_type": "markdown",
   "id": "c5491c58-444c-4e77-b928-b93116d976d9",
   "metadata": {},
   "source": [
    "<h2> Variables</h2>"
   ]
  },
  {
   "cell_type": "code",
   "execution_count": null,
   "id": "01e17d6a-3dab-4818-a9cd-ab3cce2db497",
   "metadata": {},
   "outputs": [],
   "source": [
    "x = 5         #integer\n",
    "y = 3.14      #float\n",
    "name = \"Alice\"#string"
   ]
  },
  {
   "cell_type": "markdown",
   "id": "40263264-62c8-42fd-b6c5-c652e2460b04",
   "metadata": {},
   "source": [
    "<h2>Data Types</h2>"
   ]
  },
  {
   "cell_type": "code",
   "execution_count": null,
   "id": "75359369-f99d-4a25-8dc2-9fe07a544da0",
   "metadata": {},
   "outputs": [],
   "source": [
    "Integers (int): Whole numbers, e.g., 1, 42\n",
    "Floating-point numbers ( float ): Decimal numbers,e.g., 3.14, 0.001\n",
    "Strings ( str ): Text data, e.g., \"Hello, World!\"\n",
    "Booleans ( bool ): Logical values True or False\n",
    "Lists ( list ): Ordered mutable collection, e.g.,[1, 2, 3]\n",
    "Dictionaries (dict): Key-value pairs, e.g.,{\"name\": \"Alice\", \"age\": 25}\n",
    "Tuples (tuple): Ordered, immutable collections, e.g., (1,2,3)\n",
    "Sets (set): Unordered collections of unique items, e.g., {1,2,3}"
   ]
  },
  {
   "cell_type": "markdown",
   "id": "f5ce2440-1c57-4d77-8b19-08fbe4aa7b42",
   "metadata": {},
   "source": [
    "<h2>Operators</h2>"
   ]
  },
  {
   "cell_type": "markdown",
   "id": "d624b7bc-90cc-49e2-b9f1-fac0a50b7203",
   "metadata": {},
   "source": [
    "<h3>Arithmetic Operators</h3>"
   ]
  },
  {
   "cell_type": "code",
   "execution_count": null,
   "id": "69c01619-cf53-4707-9088-8e6f5fa78b0e",
   "metadata": {},
   "outputs": [],
   "source": [
    "Addition: +\n",
    "Subtraction: -\n",
    "Multiplication: *\n",
    "Division: /\n",
    "Modulus (remainder): %\n",
    "Exponentiation: **\n",
    "Floor Division: //"
   ]
  },
  {
   "cell_type": "markdown",
   "id": "57798402-3c2d-4a8b-9209-2d2cc901e8d0",
   "metadata": {},
   "source": [
    "<h3>Comparison Operators</h3>"
   ]
  },
  {
   "cell_type": "code",
   "execution_count": null,
   "id": "c8168736-5cbb-4213-95d9-302609f8d922",
   "metadata": {},
   "outputs": [],
   "source": [
    "Equal to: ==\n",
    "Not equal to: !=\n",
    "Greater than: >\n",
    "Less than: <\n",
    "Greater than or equal to: >=\n",
    "Less than or equal to: <="
   ]
  },
  {
   "cell_type": "markdown",
   "id": "08601fea-4a67-4251-a482-6211508c3df4",
   "metadata": {},
   "source": [
    "<h3>Logical Operators</h3>"
   ]
  },
  {
   "cell_type": "markdown",
   "id": "cc011dee-6590-437f-b804-8d27950794c2",
   "metadata": {},
   "source": [
    "And: and\n",
    "Or: or\n",
    "Not: not"
   ]
  },
  {
   "cell_type": "markdown",
   "id": "b34d5a9f-edf1-425e-b24d-1d4206f1ae77",
   "metadata": {},
   "source": [
    "<h2>Control Flow</h2>"
   ]
  },
  {
   "cell_type": "markdown",
   "id": "26261f17-a646-4dab-8fad-01c6b764eea2",
   "metadata": {},
   "source": [
    "<h3>If Statements</h3>"
   ]
  },
  {
   "cell_type": "code",
   "execution_count": null,
   "id": "892161c4-64ef-4dc8-a5b9-7ca371c1a906",
   "metadata": {},
   "outputs": [],
   "source": [
    "#example of an if statment\n",
    "age = 18\n",
    "if age >= 18:\n",
    "    print(\"Your are an adult\")\n",
    "else:\n",
    "    print(\"Your are an minor\")"
   ]
  },
  {
   "cell_type": "markdown",
   "id": "0d3ad792-1417-40d2-ad78-0ee48b9e5973",
   "metadata": {},
   "source": [
    "<h3>Loops</h3>"
   ]
  },
  {
   "cell_type": "markdown",
   "id": "069b4a08-004f-41ab-bfb8-5d0f51d52fc5",
   "metadata": {},
   "source": [
    "<h4>For Loops</h4>"
   ]
  },
  {
   "cell_type": "code",
   "execution_count": null,
   "id": "925cddf9-bb59-443d-9d2d-8db420196936",
   "metadata": {},
   "outputs": [],
   "source": [
    "# for loop example\n",
    "for i in range(5):\n",
    "    print(\"Iteration\", i)"
   ]
  },
  {
   "cell_type": "markdown",
   "id": "6ca22fb8-35d7-4861-b633-da8aea6c57ec",
   "metadata": {},
   "source": [
    "<h4>While Loops</h4>"
   ]
  },
  {
   "cell_type": "code",
   "execution_count": null,
   "id": "56bccf25-a3b2-4fcb-8bff-1d903cdd60f3",
   "metadata": {},
   "outputs": [],
   "source": [
    "#while loop example\n",
    "count = 0\n",
    "while count < 5:\n",
    "    print(\"Count is\", count)\n",
    "    count += 1"
   ]
  },
  {
   "cell_type": "markdown",
   "id": "d14fee48-02ea-4458-991d-e421cf9a4575",
   "metadata": {},
   "source": [
    "<h3> Lists </h3>"
   ]
  },
  {
   "cell_type": "code",
   "execution_count": null,
   "id": "c5207673-a32a-4776-a642-9d216cee047c",
   "metadata": {},
   "outputs": [],
   "source": [
    "#creating a list\n",
    "fruits = [\"apples\", \"banana\", \"cherry\"]\n",
    "#Accessing list items\n",
    "print(fruits[0])  #Output: apple\n",
    "#Modifying list items\n",
    "fruits[1] = \"blueberry\"\n",
    "#Adding items to a list\n",
    "fruits.append(\"date\")\n",
    "# Removing items from a list\n",
    "fruits.remove(\"apple\")"
   ]
  },
  {
   "cell_type": "markdown",
   "id": "187787c6-c572-4d6f-bcf2-cefa6503beee",
   "metadata": {},
   "source": [
    "<h4>Common list methods</h4>"
   ]
  },
  {
   "cell_type": "code",
   "execution_count": null,
   "id": "aa369b0e-7684-49f4-be27-cc49680f1df4",
   "metadata": {},
   "outputs": [],
   "source": [
    "append(item) :Adds an item to the end of the list.\n",
    "insert(index, item) :Inserts an item at a specified index.\n",
    "removed(item) :Removes the first occurrence of an item.\n",
    "pop(index) :Removes and returns the item at the given index.\n",
    "sort() :Sorts the list.\n",
    "reverse():Reverses the list"
   ]
  },
  {
   "cell_type": "markdown",
   "id": "93c7a983-80ff-4b63-abca-fb2a2480abc9",
   "metadata": {},
   "source": [
    "<h3>Dictionaries</h3>"
   ]
  },
  {
   "cell_type": "code",
   "execution_count": null,
   "id": "07d8295c-f7a5-4951-8cb9-8faf37095991",
   "metadata": {},
   "outputs": [],
   "source": [
    "# Creating a dictionary\n",
    "person = { \"name\": \"Alice\", \"age\": 25 }\n",
    "\n",
    "# Accessing dictionary items\n",
    "print(person[\"name\"]) #Outputs: Alice\n",
    "\n",
    "# Modifying dictionary item:\n",
    "person[\"age\"] = 26\n",
    "\n",
    "# Adding a new key-value pair\n",
    "person[\"city\"] = \"New york\""
   ]
  },
  {
   "cell_type": "markdown",
   "id": "b6a52056-5209-4ab7-9963-9148eb60d99c",
   "metadata": {},
   "source": [
    "<h4>Common dictionary methods</h4>"
   ]
  },
  {
   "cell_type": "code",
   "execution_count": null,
   "id": "e59014fa-92c5-4aaf-a7ee-9c0ce2055f8c",
   "metadata": {},
   "outputs": [],
   "source": [
    "keys(): Returns a list of keys.\n",
    "values(): Returns a list of values.\n",
    "items(): Returns a list of key-value pairs.\n",
    "get(key): Returns the value for the specified key"
   ]
  },
  {
   "cell_type": "markdown",
   "id": "6a6e3eab-2e67-4f4e-8490-4ce628a38ebe",
   "metadata": {},
   "source": [
    "<h2>Fuctions</h2>"
   ]
  },
  {
   "cell_type": "code",
   "execution_count": null,
   "id": "d4e82b16-4319-4b9d-b793-e05c798cf36d",
   "metadata": {},
   "outputs": [],
   "source": [
    "# Defining a fuction\n",
    "def greet(name):\n",
    "    return f\"Hello, {name}!\"\n",
    "\n",
    "# Calling a function\n",
    "message = greet(\"Alice\")\n",
    "print(message) # outputs :Hello, Alice!"
   ]
  },
  {
   "cell_type": "markdown",
   "id": "a9eaebc3-8bc1-4357-862e-a4cd589bb202",
   "metadata": {},
   "source": [
    "<h3>Parameters and Arguments</h3>"
   ]
  },
  {
   "cell_type": "code",
   "execution_count": null,
   "id": "16c02570-7472-4ae7-941d-aa62cd457907",
   "metadata": {},
   "outputs": [],
   "source": [
    "# Function with parameters\n",
    "def add(a, b):\n",
    "    return a + b\n",
    "\n",
    "#Calling the function with arguments\n",
    "result = add(3, 4)\n",
    "print(result)  # outputs: "
   ]
  },
  {
   "cell_type": "markdown",
   "id": "41ddc78a-a3a2-4736-a9fa-f7cefbf7b6d2",
   "metadata": {},
   "source": [
    "<h2>Input and Output</h2>"
   ]
  },
  {
   "cell_type": "markdown",
   "id": "1077785d-8b65-4076-972b-eaa947611f1c",
   "metadata": {},
   "source": [
    "<h3>Input</h3>"
   ]
  },
  {
   "cell_type": "code",
   "execution_count": null,
   "id": "6374a275-33f4-4169-958d-40316289b18a",
   "metadata": {},
   "outputs": [],
   "source": [
    "# getting user input\n",
    "name + input(\"Enter your name: \")\n",
    "print(f\"Hello, {name}!\")"
   ]
  },
  {
   "cell_type": "markdown",
   "id": "089406bb-6ccf-4e42-bd2c-bf98141e044a",
   "metadata": {},
   "source": [
    "<h3>Output</h3>"
   ]
  },
  {
   "cell_type": "code",
   "execution_count": null,
   "id": "a50c21d4-3f4d-4fec-b5d1-1a429ff9469b",
   "metadata": {},
   "outputs": [],
   "source": [
    "# Printing output\n",
    "print(\"Welcome to Python programming!\")"
   ]
  },
  {
   "cell_type": "markdown",
   "id": "7a43981d-ebaa-47ea-9db0-5b59f727d31c",
   "metadata": {},
   "source": [
    "<h2>Comments</h2>"
   ]
  },
  {
   "cell_type": "code",
   "execution_count": null,
   "id": "a1e879f9-9b77-4a21-8ff8-b8ac8c238986",
   "metadata": {},
   "outputs": [],
   "source": [
    "Single lined comment:\n",
    "#This is a single lined comment\n",
    "Multi line comment:\n",
    "'''\n",
    "This is a\n",
    "multi line comment\n",
    "'''"
   ]
  },
  {
   "cell_type": "markdown",
   "id": "9311fcda-953c-4501-9cc0-0bed6ef9ec4c",
   "metadata": {},
   "source": [
    "<h2>Object-Oriented Programming (OOP)</h2>"
   ]
  },
  {
   "cell_type": "markdown",
   "id": "66911c73-913c-48af-9716-990bc5dfdacc",
   "metadata": {},
   "source": [
    "<h3>Classes and Objects</h3>"
   ]
  },
  {
   "cell_type": "code",
   "execution_count": null,
   "id": "32fd417b-e3b2-407f-82cc-2941fd6d77c7",
   "metadata": {},
   "outputs": [],
   "source": [
    "Class: A blueprint for creating objects\n",
    "Object: an instance of a class\n",
    "\n",
    "#Defining a class\n",
    "class Person:\n",
    "    def __inti__(self, name, age):\n",
    "        self.name = name\n",
    "        salf.age = age\n",
    "\n",
    "    def greet(self):\n",
    "        return f\"Hello, my name is {self.name}.\"\n",
    "\n",
    "#creating an object\n",
    "person1 = Person(\"Alice\", 25)\n",
    "print(person1.greet()) #Outputs: Hello, my name is Alice."
   ]
  }
 ],
 "metadata": {
  "kernelspec": {
   "display_name": "Python 3 (ipykernel)",
   "language": "python",
   "name": "python3"
  },
  "language_info": {
   "codemirror_mode": {
    "name": "ipython",
    "version": 3
   },
   "file_extension": ".py",
   "mimetype": "text/x-python",
   "name": "python",
   "nbconvert_exporter": "python",
   "pygments_lexer": "ipython3",
   "version": "3.12.1"
  }
 },
 "nbformat": 4,
 "nbformat_minor": 5
}
