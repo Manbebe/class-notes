{
 "cells": [
  {
   "cell_type": "markdown",
   "id": "4883d650-be36-4566-8a1d-949a3456b634",
   "metadata": {},
   "source": [
    "<h1> 1. What is CSS?</h1>"
   ]
  },
  {
   "cell_type": "markdown",
   "id": "fc630643-fdda-402c-8ef6-08fecb98ec32",
   "metadata": {},
   "source": [
    "<h2>CSS Syntax</h2>"
   ]
  },
  {
   "cell_type": "code",
   "execution_count": null,
   "id": "f3c118e4-2840-4965-9a1b-bd16aff0f196",
   "metadata": {},
   "outputs": [],
   "source": [
    "selector {\n",
    "    property: value;\n",
    "}"
   ]
  },
  {
   "cell_type": "markdown",
   "id": "fdbd5f42-a8b1-431b-9274-1bd66572c228",
   "metadata": {},
   "source": [
    "1: selector: Specifies the HTML elements you want to style.\n",
    "<br>\n",
    "2:Property: The style attribute you want to change\n",
    "<br>\n",
    "3. Value: The value of the property\n",
    "<br>\n",
    "\n",
    "<h2>Example</h2>\n",
    "\n",
    "p{\n",
    "    color: blue;\n",
    "    font-size: 14px;\n",
    "}"
   ]
  },
  {
   "cell_type": "markdown",
   "id": "dd93fc00-06e2-4090-828a-776541cf7eb7",
   "metadata": {},
   "source": [
    "<h1>2. Adding CSS to HTML using External CSS</h1>"
   ]
  },
  {
   "cell_type": "code",
   "execution_count": null,
   "id": "836f2bbc-e7ae-4e8e-a0f0-d7f139fc38ba",
   "metadata": {},
   "outputs": [],
   "source": [
    "<head>\n",
    "    <link rel=\"stylesheet\" href=\"styles.css\">\n",
    "</head>"
   ]
  },
  {
   "cell_type": "markdown",
   "id": "fd3d15ce-3783-42bf-a4fb-fce02cebad9f",
   "metadata": {},
   "source": [
    "<h1>CSS Selectors</h1>"
   ]
  },
  {
   "cell_type": "markdown",
   "id": "4568fdbf-6a9a-455e-be02-86192c65afb7",
   "metadata": {},
   "source": [
    "<h2>Element Selector</h2>"
   ]
  },
  {
   "cell_type": "markdown",
   "id": "3d4ce489-5426-4c01-9bc0-8feb51754ac3",
   "metadata": {},
   "source": [
    "h1 {\n",
    "color: red;\n",
    "}"
   ]
  },
  {
   "cell_type": "markdown",
   "id": "2e49b1f7-9196-4239-a26b-09048289da5d",
   "metadata": {},
   "source": [
    "<h2>Class Selector\n",
    "</h2>"
   ]
  },
  {
   "cell_type": "code",
   "execution_count": null,
   "id": "8af70309-7daa-4f1d-b70f-b044b4de85e7",
   "metadata": {},
   "outputs": [],
   "source": [
    ".intro {\n",
    "font-size: 16px;\n",
    "}\n",
    "\n",
    "<p class=\"into\">This is an introductory paragraph.</p>"
   ]
  },
  {
   "cell_type": "markdown",
   "id": "80873c21-8c2d-4589-beb7-d24006bf0dc7",
   "metadata": {},
   "source": [
    "<h2>ID Selector</h2>"
   ]
  },
  {
   "cell_type": "code",
   "execution_count": null,
   "id": "0ba3ddd5-dc1f-43b1-a0d2-1f16ddc0e812",
   "metadata": {},
   "outputs": [],
   "source": [
    "#main {\n",
    "    width: 960px;\n",
    "    }\n",
    "\n",
    "    <div id=\"main\">This is the main content area.</div>"
   ]
  },
  {
   "cell_type": "markdown",
   "id": "19dc953b-db51-4c6d-9eb0-5ac773c544a4",
   "metadata": {},
   "source": [
    "<h2>Universal Selector</h2>"
   ]
  },
  {
   "cell_type": "code",
   "execution_count": null,
   "id": "7fe01db1-2cb8-4f89-b4ba-93dd80645267",
   "metadata": {},
   "outputs": [],
   "source": [
    "* {\n",
    "    margin: 0;\n",
    "    padding: 0:\n",
    "}"
   ]
  },
  {
   "cell_type": "markdown",
   "id": "79dbda2b-beba-4acf-b1be-ce4783dfb9b0",
   "metadata": {},
   "source": [
    "<h1>4. Common CSS Properties</h1>"
   ]
  },
  {
   "cell_type": "markdown",
   "id": "af7ea896-de92-4fc3-977a-d6965f4ef713",
   "metadata": {},
   "source": [
    "<h2>Text Properties</h2>"
   ]
  },
  {
   "cell_type": "code",
   "execution_count": null,
   "id": "8def602f-61e1-4246-aaf2-4c4a3ae15bc3",
   "metadata": {},
   "outputs": [],
   "source": [
    "p {\n",
    "    color: #333333;\n",
    "    font-size: 14px;\n",
    "    font-family: Arial, sans-serif;\n",
    "    font-weight: bold;\n",
    "    text-align: center;\n",
    "}"
   ]
  },
  {
   "cell_type": "markdown",
   "id": "65d350e8-d8e7-450b-a12c-c3bb6a391029",
   "metadata": {},
   "source": [
    "<h2>Background Properties</h2>"
   ]
  },
  {
   "cell_type": "code",
   "execution_count": null,
   "id": "a5c349cc-fe2a-45f1-9919-8c9d7e47a8d5",
   "metadata": {},
   "outputs": [],
   "source": [
    "body {\n",
    "    background-color : #f0f0f0;\n",
    "    background-image: url('background.jpg')\n",
    "}"
   ]
  },
  {
   "cell_type": "markdown",
   "id": "3ca74068-a76e-42f5-955c-7202c91ad3ee",
   "metadata": {},
   "source": [
    "<h2>Box Model Properties</h2>"
   ]
  },
  {
   "cell_type": "code",
   "execution_count": null,
   "id": "1a4843df-66d4-4018-a512-956faa57cd1c",
   "metadata": {},
   "outputs": [],
   "source": [
    "div { \n",
    "    width: 200px;\n",
    "    height: 100px;\n",
    "    padding: 10px;\n",
    "    border: 1px solid #000;\n",
    "    margin: 20px;\n",
    "}"
   ]
  },
  {
   "cell_type": "markdown",
   "id": "b6f6be3b-6535-4ebd-a9b1-7b0e089480b9",
   "metadata": {},
   "source": [
    "<h2>Display and Visibility</h2>"
   ]
  },
  {
   "cell_type": "code",
   "execution_count": null,
   "id": "5538137e-1bbd-45ab-a007-8d1f670e887e",
   "metadata": {},
   "outputs": [],
   "source": [
    ".inline {\n",
    "    display: inline;\n",
    "}\n",
    "\n",
    ".block {\n",
    "    display: block;\n",
    "}\n",
    "\n",
    ".none {\n",
    "    display: none;\n",
    "}\n",
    "\n",
    ".invisible {\n",
    "    visibility: hidden;\n",
    "}"
   ]
  },
  {
   "cell_type": "markdown",
   "id": "57f49574-1170-48cc-bfcd-c594ca9bebf4",
   "metadata": {},
   "source": [
    "<h1>5. CSS Flexbox</h1>"
   ]
  },
  {
   "cell_type": "markdown",
   "id": "a2635c5a-9a47-4e94-8062-bd46dc82ffd1",
   "metadata": {},
   "source": [
    "<h2>Setting Up a Flex Container</h2>"
   ]
  },
  {
   "cell_type": "code",
   "execution_count": null,
   "id": "ea8d410a-3490-4ce6-9a7d-bacee847a060",
   "metadata": {},
   "outputs": [],
   "source": [
    ".container {\n",
    "    display: flex;\n",
    "}"
   ]
  },
  {
   "cell_type": "markdown",
   "id": "a618f5fd-8049-4fbe-bcf2-c93b992951e7",
   "metadata": {},
   "source": [
    "<h2>Flex Direction</h2>"
   ]
  },
  {
   "cell_type": "code",
   "execution_count": null,
   "id": "31036cbe-4102-4b10-b2fb-0128c4a00dfa",
   "metadata": {},
   "outputs": [],
   "source": [
    ".container {\n",
    "    flex-direction: row;\n",
    "}"
   ]
  },
  {
   "cell_type": "markdown",
   "id": "2b76fa6b-4b00-413c-a6cb-fb811341f9c0",
   "metadata": {},
   "source": [
    "<h2>Justify Content</h2>"
   ]
  },
  {
   "cell_type": "code",
   "execution_count": null,
   "id": "0c3e978b-1371-4650-8f82-6a7eef84076c",
   "metadata": {},
   "outputs": [],
   "source": [
    ".container {\n",
    "    Justify-content: center;\n",
    "}"
   ]
  },
  {
   "cell_type": "markdown",
   "id": "529a6c31-4381-4406-8908-86e4b7a3ceed",
   "metadata": {},
   "source": [
    "<h2>Align items</h2>"
   ]
  },
  {
   "cell_type": "code",
   "execution_count": null,
   "id": "d9d567c0-63ba-44f5-82b8-f3cc23b32d2e",
   "metadata": {},
   "outputs": [],
   "source": [
    ".container { \n",
    "    align-items: center;\n",
    "}"
   ]
  },
  {
   "cell_type": "markdown",
   "id": "288ca681-d767-4660-9c1b-ed43e1c9417a",
   "metadata": {},
   "source": [
    "<h2>Flex Wrap</h2>"
   ]
  },
  {
   "cell_type": "markdown",
   "id": "9c1ac501-de92-4571-a11b-2ab5be07027a",
   "metadata": {},
   "source": [
    ".container {\n",
    "    flex-wrap: wrap;\n",
    "}"
   ]
  },
  {
   "cell_type": "markdown",
   "id": "b5176d4e-265a-43d3-88f2-b5eeed84bd71",
   "metadata": {},
   "source": [
    "<h2>Flex Item Properties</h2>"
   ]
  },
  {
   "cell_type": "code",
   "execution_count": null,
   "id": "9b72e4dc-35d5-405a-83c3-203c87115cde",
   "metadata": {},
   "outputs": [],
   "source": [
    ".item {\n",
    "    flex-grow: 1;\n",
    "    flex-shrink: 1;\n",
    "}"
   ]
  },
  {
   "cell_type": "markdown",
   "id": "849e1c6e-85f3-40be-9291-26bba1c03843",
   "metadata": {},
   "source": [
    "<h1>Example Flexbox Layout</h1>"
   ]
  },
  {
   "cell_type": "markdown",
   "id": "ad8470c9-d254-4a09-a091-2a4ff930fa91",
   "metadata": {},
   "source": [
    "<h2>HTML:</h2>"
   ]
  },
  {
   "cell_type": "markdown",
   "id": "a4d22acd-b0a5-4cd9-9d3d-56a5c7ab94f5",
   "metadata": {},
   "source": [
    "<div class=\"container\">\n",
    "    <div class=\"item\">Item 1</div>\n",
    "    <div class=\"item\">Item 2</div>\n",
    "    <div class=\"item\">Item 3</div>\n",
    "</div>"
   ]
  },
  {
   "cell_type": "markdown",
   "id": "17b16ea5-245e-4bb2-8bbf-e34b1860f9e3",
   "metadata": {},
   "source": [
    "<h2>CSS:</h2>"
   ]
  },
  {
   "cell_type": "code",
   "execution_count": null,
   "id": "1d57a2be-02a2-49e7-ab08-6d7cd814e583",
   "metadata": {},
   "outputs": [],
   "source": [
    ".container {\n",
    "    display:flex;\n",
    "    flex-direction: row;\n",
    "    Justify-content: space-between;\n",
    "    align-items: center;\n",
    "}\n",
    "\n",
    ".item {\n",
    "    background-color: lightblue;\n",
    "    padding: 20px;\n",
    "    margin: 10px;\n",
    "    flex: 1;\n",
    "}"
   ]
  }
 ],
 "metadata": {
  "kernelspec": {
   "display_name": "Python 3 (ipykernel)",
   "language": "python",
   "name": "python3"
  },
  "language_info": {
   "codemirror_mode": {
    "name": "ipython",
    "version": 3
   },
   "file_extension": ".py",
   "mimetype": "text/x-python",
   "name": "python",
   "nbconvert_exporter": "python",
   "pygments_lexer": "ipython3",
   "version": "3.12.1"
  }
 },
 "nbformat": 4,
 "nbformat_minor": 5
}
