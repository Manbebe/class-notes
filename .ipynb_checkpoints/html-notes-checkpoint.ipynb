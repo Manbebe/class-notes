{
 "cells": [
  {
   "cell_type": "markdown",
   "id": "8405fe90-1b27-4ffc-8579-257b2d8cd100",
   "metadata": {},
   "source": [
    "# HTML Notes\n",
    "*** "
   ]
  },
  {
   "cell_type": "markdown",
   "id": "6c11171e-c640-4c1d-bfd7-171fa6668e8f",
   "metadata": {},
   "source": [
    "## subheading\n",
    "*** "
   ]
  },
  {
   "cell_type": "markdown",
   "id": "786870c2-8cd5-4511-bc4b-e490db0da4e2",
   "metadata": {},
   "source": [
    "### smaller heading\n",
    "***"
   ]
  },
  {
   "cell_type": "markdown",
   "id": "5bd8f243-38e1-483d-86b0-eca4d4e28ffe",
   "metadata": {},
   "source": [
    "This is a very very simple dimple pharagraph"
   ]
  },
  {
   "cell_type": "markdown",
   "id": "7e868fb5-2da0-4c03-8264-7b6791f3df8f",
   "metadata": {},
   "source": [
    "in `HTML` the `<p>` tag"
   ]
  },
  {
   "cell_type": "markdown",
   "id": "ce7308bd-191b-477c-9090-0ede8ef644ee",
   "metadata": {},
   "source": [
    "```\n",
    "<body>\n",
    "<p>This is a pharagraph</p>\n",
    "</body>\n",
    "```"
   ]
  },
  {
   "cell_type": "markdown",
   "id": "14b92d04-fc86-48c7-8b19-9fa5a0b5ff7c",
   "metadata": {},
   "source": [
    "__Bold text__"
   ]
  },
  {
   "cell_type": "markdown",
   "id": "cf3e63ab-77e6-4839-9e27-a75801753b3e",
   "metadata": {},
   "source": [
    "1. Hi\n",
    "2. there\n",
    "3. hello\n",
    "4. back"
   ]
  },
  {
   "cell_type": "markdown",
   "id": "f028b73a-e43b-49ad-b59c-43d8c1318751",
   "metadata": {},
   "source": [
    "_italic_\n",
    "<br>\n",
    "*italic*"
   ]
  },
  {
   "cell_type": "markdown",
   "id": "e3f33e0a-1fa3-47d3-a434-73bdc8b3aa43",
   "metadata": {},
   "source": [
    "[Grimace is coming for you](https://encrypted-tbn0.gstatic.com/images?q=tbn:ANd9GcSEaoFCruYyQEXBYLLsrAMBnmIDE2aelX2NA1RWur3TNSoidNA:https://i.ytimg.com/vi/mA5ShB4EmCo/hq720.jpg%3Fsqp%3D-oaymwEhCK4FEIIDSFryq4qpAxMIARUAAAAAGAElAADIQj0AgKJD%26rs%3DAOn4CLBV7hkl3kWQp9_FO33XSBaIvXdR7Q&s)\n",
    "                            "
   ]
  },
  {
   "cell_type": "markdown",
   "id": "1b322f50-bd23-44db-9968-017e9759d591",
   "metadata": {},
   "source": [
    "<!DOCTYPE html>\n",
    "<html>\n",
    "    <head>\n",
    "         <title>Page Title</title>\n",
    "     </head>\n",
    "     <body>\n",
    "         <h1>This is a heading</h1>\n",
    "         <p>This is a pharagraph</p>\n",
    "     </body>\n",
    " </html>\n",
    " "
   ]
  },
  {
   "cell_type": "code",
   "execution_count": null,
   "id": "49e88afb-a18b-45b8-86ea-089673d37dec",
   "metadata": {},
   "outputs": [],
   "source": []
  }
 ],
 "metadata": {
  "kernelspec": {
   "display_name": "Python 3 (ipykernel)",
   "language": "python",
   "name": "python3"
  },
  "language_info": {
   "codemirror_mode": {
    "name": "ipython",
    "version": 3
   },
   "file_extension": ".py",
   "mimetype": "text/x-python",
   "name": "python",
   "nbconvert_exporter": "python",
   "pygments_lexer": "ipython3",
   "version": "3.12.1"
  }
 },
 "nbformat": 4,
 "nbformat_minor": 5
}
