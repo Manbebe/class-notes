{
 "cells": [
  {
   "cell_type": "markdown",
   "id": "ae7dc8b4-c594-4c57-bda1-cea26e5ec5df",
   "metadata": {},
   "source": [
    "<h1>Python Programming:A General Overview</h1>"
   ]
  },
  {
   "cell_type": "markdown",
   "id": "c5491c58-444c-4e77-b928-b93116d976d9",
   "metadata": {},
   "source": [
    "<h2> Variables</h2>"
   ]
  },
  {
   "cell_type": "code",
   "execution_count": null,
   "id": "01e17d6a-3dab-4818-a9cd-ab3cce2db497",
   "metadata": {},
   "outputs": [],
   "source": [
    "x = 5         #integer\n",
    "y = 3.14      #float\n",
    "name = \"Alice\"#string"
   ]
  },
  {
   "cell_type": "markdown",
   "id": "40263264-62c8-42fd-b6c5-c652e2460b04",
   "metadata": {},
   "source": [
    "<h2>Data Types</h2>"
   ]
  },
  {
   "cell_type": "code",
   "execution_count": null,
   "id": "75359369-f99d-4a25-8dc2-9fe07a544da0",
   "metadata": {},
   "outputs": [],
   "source": [
    "Integers (int): Whole numbers, e.g., 1, 42\n",
    "Floating-point numbers ( float ): Decimal numbers,e.g., 3.14, 0.001\n",
    "Strings ( str ): Text data, e.g., \"Hello, World!\"\n",
    "Booleans ( bool ): Logical values True or False\n",
    "Lists ( list ): Ordered mutable collection, e.g.,[1, 2, 3]\n",
    "Dictionaries (dict): Key-value pairs, e.g.,{\"name\": \"Alice\", \"age\": 25}\n",
    "Tuples (tuple): Ordered, immutable collections, e.g., (1,2,3)\n",
    "Sets (set): Unordered collections of unique items, e.g., {1,2,3}"
   ]
  }
 ],
 "metadata": {
  "kernelspec": {
   "display_name": "Python 3 (ipykernel)",
   "language": "python",
   "name": "python3"
  },
  "language_info": {
   "codemirror_mode": {
    "name": "ipython",
    "version": 3
   },
   "file_extension": ".py",
   "mimetype": "text/x-python",
   "name": "python",
   "nbconvert_exporter": "python",
   "pygments_lexer": "ipython3",
   "version": "3.12.1"
  }
 },
 "nbformat": 4,
 "nbformat_minor": 5
}
